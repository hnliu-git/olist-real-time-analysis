{
 "cells": [
  {
   "cell_type": "code",
   "execution_count": 1,
   "id": "f56c1593-9ef3-4f7f-83e5-f7f96284091d",
   "metadata": {},
   "outputs": [],
   "source": [
    "import pandas as pd"
   ]
  },
  {
   "cell_type": "code",
   "execution_count": 2,
   "id": "886ee317-3a71-4071-bae1-c2409f0c3264",
   "metadata": {},
   "outputs": [],
   "source": [
    "df_orders = pd.read_csv('data/olist_orders_dataset.csv', \n",
    "                 usecols=['order_id', 'customer_id', 'order_status','order_approved_at']).set_index('order_id')\n",
    "df_items = pd.read_csv('data/olist_order_items_dataset.csv', \n",
    "                 usecols=['order_id', 'product_id', 'price']).set_index('order_id')\n",
    "df_reviews = pd.read_csv('data/olist_order_reviews_dataset.csv',\n",
    "                 usecols=['order_id', 'review_id', 'review_score', 'review_comment_message', 'review_creation_date'])"
   ]
  },
  {
   "cell_type": "code",
   "execution_count": 3,
   "id": "4e80a87c-a400-4824-b1f8-24d9cf48b349",
   "metadata": {},
   "outputs": [],
   "source": [
    "# dropna and duplicates and keep delivered orders\n",
    "df_orders = df_orders.join(df_items, on='order_id').dropna().drop_duplicates()\n",
    "df_orders = df_orders[df_orders['order_status']=='delivered']\n",
    "# Keep reviews with comments msg\n",
    "df_reviews = df_reviews.dropna()"
   ]
  },
  {
   "cell_type": "code",
   "execution_count": 4,
   "id": "9ab3107c-95a3-4b6d-bc93-293e7f5f5171",
   "metadata": {},
   "outputs": [
    {
     "name": "stdout",
     "output_type": "stream",
     "text": [
      "Number of orders: 100182\n",
      "Number of reviews: 40977\n"
     ]
    }
   ],
   "source": [
    "print(\"Number of orders: %d\"%len(df_orders))\n",
    "print(\"Number of reviews: %d\"%len(df_reviews))"
   ]
  },
  {
   "cell_type": "code",
   "execution_count": 5,
   "id": "412daa11-0c9a-443a-a533-8415799e0ef6",
   "metadata": {},
   "outputs": [],
   "source": [
    "import time\n",
    "import datetime\n",
    "\n",
    "# str2ts = lambda x: datetime.datetime.strptime(x.split()[0], \"%Y-%m-%d\").timestamp()\n",
    "str2date = lambda x: x.split()[0]\n",
    "\n",
    "# df_orders['ts'] = df_orders['order_approved_at'].map(str2ts)\n",
    "# df_reviews['ts'] = df_reviews['review_creation_date'].map(str2ts)\n",
    "df_orders['date'] = df_orders['order_approved_at'].map(str2date)\n",
    "df_reviews['date'] = df_reviews['review_creation_date'].map(str2date)\n",
    "df_orders['price'] = df_orders['price'].map(lambda x: str(x))\n",
    "df_reviews['review_comment_message'] = df_reviews['review_comment_message'].map(lambda x: x.replace('\\n', '').replace('\\r', ''))"
   ]
  },
  {
   "cell_type": "code",
   "execution_count": 6,
   "id": "aaad036d-dc11-414b-96de-dd4bd6586d90",
   "metadata": {},
   "outputs": [],
   "source": [
    "start_date_str = df_orders['date'].sort_values().iloc[0]\n",
    "end_date_str = df_orders['date'].sort_values().iloc[-1]\n",
    "start_date_obj = datetime.datetime.strptime(start_date_str, '%Y-%m-%d')\n",
    "end_date_obj = datetime.datetime.strptime(end_date_str, '%Y-%m-%d')\n",
    "\n",
    "delta = (end_date_obj - start_date_obj).days"
   ]
  },
  {
   "cell_type": "code",
   "execution_count": null,
   "id": "f7b98cd5-77d8-41c6-9207-95da89adc3f6",
   "metadata": {},
   "outputs": [],
   "source": [
    "from kafka import KafkaProducer\n",
    "\n",
    "producer = KafkaProducer(bootstrap_servers='localhost:9092')\n",
    "df_orders_group = df_orders[['customer_id','product_id','price','date']].groupby(by='date')\n",
    "df_reviews_group = df_reviews[['review_id','review_comment_message','date']].groupby(by='date')\n",
    "orders_groups = df_orders_group.groups\n",
    "reviews_groups = df_reviews_group.groups\n",
    "\n",
    "for i in range(delta):\n",
    "    now_obj = start_date_obj + datetime.timedelta(days=i)\n",
    "    now_str = now_obj.strftime('%Y-%m-%d')\n",
    "    print(\"Now:\", now_str)\n",
    "    if now_str in orders_groups:\n",
    "        orders = df_orders_group.get_group(now_str).values\n",
    "        for order in orders:\n",
    "            key = order[0].encode('utf-8')\n",
    "            value = '[SEP]'.join(order[1:]).encode('utf-8')\n",
    "#             print(key.decode('utf-8'), value.decode('utf-8'))\n",
    "            producer.send('order', key=key, value=value)\n",
    "    if now_str in reviews_groups:\n",
    "        reviews = df_reviews_group.get_group(now_str).values\n",
    "        for review in reviews:\n",
    "            key = review[0].encode('utf-8')\n",
    "            value = '[SEP]'.join(review[1:]).encode('utf-8')\n",
    "#             print(key.decode('utf-8'), value.decode('utf-8'))\n",
    "            producer.send('review', key=key, value=value)\n",
    "    time.sleep(1)\n"
   ]
  }
 ],
 "metadata": {
  "kernelspec": {
   "display_name": "dic",
   "language": "python",
   "name": "dic"
  },
  "language_info": {
   "codemirror_mode": {
    "name": "ipython",
    "version": 3
   },
   "file_extension": ".py",
   "mimetype": "text/x-python",
   "name": "python",
   "nbconvert_exporter": "python",
   "pygments_lexer": "ipython3",
   "version": "3.7.11"
  }
 },
 "nbformat": 4,
 "nbformat_minor": 5
}
