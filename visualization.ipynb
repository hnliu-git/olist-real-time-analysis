{
 "cells": [
  {
   "cell_type": "code",
   "execution_count": null,
   "id": "af32426d-0abf-4513-8f23-2da2dd50107d",
   "metadata": {},
   "outputs": [],
   "source": [
    "import pandas as pd\n",
    "import time\n",
    "\n",
    "rate = True\n",
    "\n",
    "pur = False\n",
    "\n",
    "while True:\n",
    "    if rate:\n",
    "        df_rate = pd.read_csv('data/top_rated.csv',\n",
    "                         header=None,\n",
    "                         names=['product_id', 'pos_cot']) \\\n",
    "               .drop_duplicates(subset=['product_id'], keep='last')\n",
    "        print(\"============rate=============\")\n",
    "        print(df_rate.sort_values(by='pos_cot', ascending=False).head(10))\n",
    "    if pur:\n",
    "        df_pur = pd.read_csv('data/top_purchased.csv',\n",
    "                         header=None,\n",
    "                         names=['product_id', 'cot']) \\\n",
    "               .drop_duplicates(subset=['product_id'], keep='last') \n",
    "\n",
    "        print(\"==========purchase===========\")\n",
    "        print(df_pur.sort_values(by='cot', ascending=False).head(10))\n",
    "    time.sleep(10)\n",
    "    "
   ]
  }
 ],
 "metadata": {
  "kernelspec": {
   "display_name": "Python 3",
   "language": "python",
   "name": "python3"
  },
  "language_info": {
   "codemirror_mode": {
    "name": "ipython",
    "version": 3
   },
   "file_extension": ".py",
   "mimetype": "text/x-python",
   "name": "python",
   "nbconvert_exporter": "python",
   "pygments_lexer": "ipython3",
   "version": "3.7.11"
  }
 },
 "nbformat": 4,
 "nbformat_minor": 5
}
